{
 "cells": [
  {
   "cell_type": "code",
   "execution_count": null,
   "metadata": {},
   "outputs": [],
   "source": [
    "from flask import Flask\n",
    "app = Flask(__name__) \n",
    "@app.route('/') \n",
    "def hello_world(): \n",
    "    return 'Hello World'\n",
    "\n",
    "if __name__ == '__main__': \n",
    "     app.run()"
   ]
  },
  {
   "cell_type": "code",
   "execution_count": null,
   "metadata": {},
   "outputs": [],
   "source": [
    "from flask import Flask\n",
    "app = Flask(__name__)\n",
    "@app.route('/hello/<name>') \n",
    "def hello_name(name): \n",
    "   return 'Hello %s!' % name \n",
    "  \n",
    "if __name__ == '__main__': \n",
    "   app.run() "
   ]
  },
  {
   "cell_type": "code",
   "execution_count": null,
   "metadata": {},
   "outputs": [],
   "source": []
  },
  {
   "cell_type": "code",
   "execution_count": 2,
   "metadata": {},
   "outputs": [
    {
     "data": {
      "text/html": [
       "<html> <body><form action = \"http://localhost:5000/login\" method = \"post\"> <p>Enter Name:</p><p><input type = \"text\" name = \"nm\" /></p>   <p><input type = \"submit\" value = \"submit\" /></p> </form></body></html>"
      ],
      "text/plain": [
       "<IPython.core.display.HTML object>"
      ]
     },
     "metadata": {},
     "output_type": "display_data"
    },
    {
     "name": "stdout",
     "output_type": "stream",
     "text": [
      " * Serving Flask app \"__main__\" (lazy loading)\n",
      " * Environment: production\n",
      "   WARNING: This is a development server. Do not use it in a production deployment.\n",
      "   Use a production WSGI server instead.\n",
      " * Debug mode: on\n"
     ]
    },
    {
     "name": "stderr",
     "output_type": "stream",
     "text": [
      " * Restarting with stat\n"
     ]
    },
    {
     "ename": "SystemExit",
     "evalue": "1",
     "output_type": "error",
     "traceback": [
      "An exception has occurred, use %tb to see the full traceback.\n",
      "\u001b[1;31mSystemExit\u001b[0m\u001b[1;31m:\u001b[0m 1\n"
     ]
    }
   ],
   "source": [
    "#from IPython.core.display import display, HTML\n",
    "#display(HTML('<html> <body><form action = \"http://localhost:5000/login\" method = \"post\"> <p>Enter Name:</p><p><input type = \"text\" name = \"nm\" /></p>   <p><input type = \"submit\" value = \"submit\" /></p> </form></body></html>'))\n",
    "\n",
    "from flask import Flask, redirect, url_for, request \n",
    "app = Flask(__name__) \n",
    "  \n",
    "@app.route('/login',methods = ['POST', 'GET']) \n",
    "def login(): \n",
    "   if request.method == 'POST': \n",
    "      user = request.form['nm'] \n",
    "      return redirect(url_for('success',name = user)) \n",
    "   else: \n",
    "      user = request.args.get('nm') \n",
    "      return redirect(url_for('success',name = user)) \n",
    "\n",
    "@app.route('/success/<name>') \n",
    "def success(name): \n",
    "   return 'welcome %s' % name \n",
    "\n",
    "if __name__ == '__main__': \n",
    "   app.run(debug = True) "
   ]
  },
  {
   "cell_type": "code",
   "execution_count": null,
   "metadata": {},
   "outputs": [],
   "source": []
  },
  {
   "cell_type": "code",
   "execution_count": null,
   "metadata": {},
   "outputs": [],
   "source": []
  }
 ],
 "metadata": {
  "kernelspec": {
   "display_name": "Python 3",
   "language": "python",
   "name": "python3"
  },
  "language_info": {
   "codemirror_mode": {
    "name": "ipython",
    "version": 3
   },
   "file_extension": ".py",
   "mimetype": "text/x-python",
   "name": "python",
   "nbconvert_exporter": "python",
   "pygments_lexer": "ipython3",
   "version": "3.7.4"
  }
 },
 "nbformat": 4,
 "nbformat_minor": 2
}
